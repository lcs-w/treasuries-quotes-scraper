{
 "cells": [
  {
   "cell_type": "code",
   "execution_count": 1,
   "metadata": {},
   "outputs": [],
   "source": [
    "import pandas as pd\n",
    "from datetime import datetime"
   ]
  },
  {
   "cell_type": "code",
   "execution_count": 6,
   "metadata": {},
   "outputs": [
    {
     "data": {
      "text/html": [
       "<div>\n",
       "<style scoped>\n",
       "    .dataframe tbody tr th:only-of-type {\n",
       "        vertical-align: middle;\n",
       "    }\n",
       "\n",
       "    .dataframe tbody tr th {\n",
       "        vertical-align: top;\n",
       "    }\n",
       "\n",
       "    .dataframe thead th {\n",
       "        text-align: right;\n",
       "    }\n",
       "</style>\n",
       "<table border=\"1\" class=\"dataframe\">\n",
       "  <thead>\n",
       "    <tr style=\"text-align: right;\">\n",
       "      <th></th>\n",
       "      <th>MATURITY</th>\n",
       "      <th>COUPON</th>\n",
       "      <th>BID</th>\n",
       "      <th>ASKED</th>\n",
       "      <th>CHG</th>\n",
       "      <th>ASKED YIELD</th>\n",
       "    </tr>\n",
       "  </thead>\n",
       "  <tbody>\n",
       "    <tr>\n",
       "      <th>0</th>\n",
       "      <td>7/15/2024</td>\n",
       "      <td>0.375</td>\n",
       "      <td>n.a.</td>\n",
       "      <td>n.a.</td>\n",
       "      <td>n.a.</td>\n",
       "      <td>0.406</td>\n",
       "    </tr>\n",
       "    <tr>\n",
       "      <th>1</th>\n",
       "      <td>7/31/2024</td>\n",
       "      <td>1.750</td>\n",
       "      <td>99.2660</td>\n",
       "      <td>99.2760</td>\n",
       "      <td>0.0040</td>\n",
       "      <td>4.996</td>\n",
       "    </tr>\n",
       "    <tr>\n",
       "      <th>2</th>\n",
       "      <td>7/31/2024</td>\n",
       "      <td>2.125</td>\n",
       "      <td>99.2660</td>\n",
       "      <td>99.2760</td>\n",
       "      <td>unch.</td>\n",
       "      <td>5.368</td>\n",
       "    </tr>\n",
       "    <tr>\n",
       "      <th>3</th>\n",
       "      <td>7/31/2024</td>\n",
       "      <td>3.000</td>\n",
       "      <td>99.2820</td>\n",
       "      <td>99.2920</td>\n",
       "      <td>unch.</td>\n",
       "      <td>5.079</td>\n",
       "    </tr>\n",
       "    <tr>\n",
       "      <th>4</th>\n",
       "      <td>8/15/2024</td>\n",
       "      <td>0.375</td>\n",
       "      <td>99.1820</td>\n",
       "      <td>99.1920</td>\n",
       "      <td>unch.</td>\n",
       "      <td>5.279</td>\n",
       "    </tr>\n",
       "  </tbody>\n",
       "</table>\n",
       "</div>"
      ],
      "text/plain": [
       "    MATURITY  COUPON      BID    ASKED     CHG  ASKED YIELD\n",
       "0  7/15/2024   0.375     n.a.     n.a.    n.a.        0.406\n",
       "1  7/31/2024   1.750  99.2660  99.2760  0.0040        4.996\n",
       "2  7/31/2024   2.125  99.2660  99.2760   unch.        5.368\n",
       "3  7/31/2024   3.000  99.2820  99.2920   unch.        5.079\n",
       "4  8/15/2024   0.375  99.1820  99.1920   unch.        5.279"
      ]
     },
     "execution_count": 6,
     "metadata": {},
     "output_type": "execute_result"
    }
   ],
   "source": [
    "df = pd.read_csv(\"treasury_20240715.txt\", sep=\"\\t\")\n",
    "\n",
    "df.head()"
   ]
  },
  {
   "cell_type": "code",
   "execution_count": 3,
   "metadata": {},
   "outputs": [
    {
     "data": {
      "text/plain": [
       "(342, 6)"
      ]
     },
     "execution_count": 3,
     "metadata": {},
     "output_type": "execute_result"
    }
   ],
   "source": [
    "df.shape"
   ]
  },
  {
   "cell_type": "code",
   "execution_count": 5,
   "metadata": {},
   "outputs": [
    {
     "data": {
      "text/plain": [
       "0     2024-07-15\n",
       "1     2024-07-31\n",
       "2     2024-07-31\n",
       "3     2024-07-31\n",
       "4     2024-08-15\n",
       "         ...    \n",
       "337   2053-05-15\n",
       "338   2053-08-15\n",
       "339   2053-11-15\n",
       "340   2054-02-15\n",
       "341   2054-05-15\n",
       "Name: MATURITY, Length: 342, dtype: datetime64[ns]"
      ]
     },
     "execution_count": 5,
     "metadata": {},
     "output_type": "execute_result"
    }
   ],
   "source": [
    "pd.to_datetime(df['MATURITY'])\n",
    "# df['MATURITY'] "
   ]
  },
  {
   "cell_type": "code",
   "execution_count": null,
   "metadata": {},
   "outputs": [],
   "source": []
  }
 ],
 "metadata": {
  "kernelspec": {
   "display_name": "Python 3",
   "language": "python",
   "name": "python3"
  },
  "language_info": {
   "codemirror_mode": {
    "name": "ipython",
    "version": 3
   },
   "file_extension": ".py",
   "mimetype": "text/x-python",
   "name": "python",
   "nbconvert_exporter": "python",
   "pygments_lexer": "ipython3",
   "version": "3.12.3"
  }
 },
 "nbformat": 4,
 "nbformat_minor": 2
}
